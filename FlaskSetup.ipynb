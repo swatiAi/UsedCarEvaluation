{
 "cells": [
  {
   "cell_type": "code",
   "execution_count": 16,
   "id": "386289fa-9f95-4261-9c10-a2caa3086e6e",
   "metadata": {},
   "outputs": [
    {
     "name": "stdout",
     "output_type": "stream",
     "text": [
      "Index(['Car', 'Location', 'Fuel', 'Transmission', 'ODO', 'Age', 'Mileage',\n",
      "       'Engine', 'Power', 'Seats', 'SP', 'CP'],\n",
      "      dtype='object')\n"
     ]
    }
   ],
   "source": [
    "import pandas as pd\n",
    "\n",
    "# Load your training data\n",
    "train_df = pd.read_csv('result.csv')\n",
    "\n",
    "# Display the columns of the DataFrame\n",
    "print(train_df.columns)"
   ]
  },
  {
   "cell_type": "code",
   "execution_count": 26,
   "id": "bfc6908e-e499-415d-b4f0-c2e2ea8edc3a",
   "metadata": {},
   "outputs": [
    {
     "data": {
      "text/plain": [
       "['model.pkl']"
      ]
     },
     "execution_count": 26,
     "metadata": {},
     "output_type": "execute_result"
    }
   ],
   "source": [
    "import pandas as pd\n",
    "import joblib\n",
    "from sklearn.linear_model import LinearRegression\n",
    "from sklearn.preprocessing import OneHotEncoder\n",
    "from sklearn.compose import ColumnTransformer\n",
    "from sklearn.pipeline import Pipeline\n",
    "\n",
    "# Load your training data\n",
    "train_df = pd.read_csv('train.csv')\n",
    "\n",
    "# Define the features and target\n",
    "X = train_df[['Car', 'Location', 'Fuel', 'Transmission', 'ODO', 'Age', 'Mileage',\n",
    "       'Engine', 'Power', 'Seats','CP']]\n",
    "y = train_df['SP']  # Target column is Selling Price (SP)\n",
    "\n",
    "# Define the column transformer for one-hot encoding categorical variables\n",
    "preprocessor = ColumnTransformer(\n",
    "    transformers=[\n",
    "        ('cat', OneHotEncoder(handle_unknown='ignore'), ['Car', 'Location', 'Fuel', 'Transmission']),\n",
    "        ('num', 'passthrough', ['ODO', 'Age', 'Mileage', 'Engine', 'Power', 'Seats', 'CP'])\n",
    "    ])\n",
    "\n",
    "# Create a pipeline with preprocessing and the model\n",
    "pipeline = Pipeline(steps=[('preprocessor', preprocessor),\n",
    "                           ('model', LinearRegression())])\n",
    "\n",
    "# Train your model\n",
    "pipeline.fit(X, y)\n",
    "\n",
    "# Save your trained model\n",
    "joblib.dump(pipeline, 'model.pkl')\n"
   ]
  },
  {
   "cell_type": "code",
   "execution_count": 33,
   "id": "26342380-bbcf-4924-8d67-0507fe4abc01",
   "metadata": {},
   "outputs": [
    {
     "name": "stdout",
     "output_type": "stream",
     "text": [
      "Response status code: 200\n",
      "Response text: {\n",
      "  \"prediction\": 10357.655876863122\n",
      "}\n",
      "\n",
      "{'prediction': 10357.655876863122}\n"
     ]
    }
   ],
   "source": [
    "import requests\n",
    "\n",
    "url = 'http://127.0.0.1:5000/predict'\n",
    "car_data = {\n",
    "    'Car': 'Subaru Forester',\n",
    "    'Location': 'Islamabad',\n",
    "    'Fuel': 'Diesel',\n",
    "    'Transmission': 'Manual',\n",
    "    'ODO': 20.77,\n",
    "    'Age': 6,\n",
    "    'Mileage': 15,\n",
    "    'Engine': 1248,\n",
    "    'Power': 88.76,\n",
    "    'Seats': 7,\n",
    "    'CP': 15176  # Example cost price\n",
    "}\n",
    "\n",
    "response = requests.post(url, json=car_data)\n",
    "print(\"Response status code:\", response.status_code)  # Print status code\n",
    "print(\"Response text:\", response.text)  # Print response text\n",
    "\n",
    "try:\n",
    "    print(response.json())  # Attempt to parse JSON response\n",
    "except ValueError:\n",
    "    print(\"Response is not in JSON format.\")\n"
   ]
  },
  {
   "cell_type": "code",
   "execution_count": null,
   "id": "6314e5db-2a2c-417a-b5c6-c34e9d763026",
   "metadata": {},
   "outputs": [],
   "source": []
  },
  {
   "cell_type": "code",
   "execution_count": null,
   "id": "d798d20e-f965-47f9-9044-9c02d5a08416",
   "metadata": {},
   "outputs": [],
   "source": []
  }
 ],
 "metadata": {
  "kernelspec": {
   "display_name": "Python 3 (ipykernel)",
   "language": "python",
   "name": "python3"
  },
  "language_info": {
   "codemirror_mode": {
    "name": "ipython",
    "version": 3
   },
   "file_extension": ".py",
   "mimetype": "text/x-python",
   "name": "python",
   "nbconvert_exporter": "python",
   "pygments_lexer": "ipython3",
   "version": "3.11.7"
  }
 },
 "nbformat": 4,
 "nbformat_minor": 5
}
